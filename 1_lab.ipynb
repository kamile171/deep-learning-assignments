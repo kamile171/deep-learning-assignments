{
  "nbformat": 4,
  "nbformat_minor": 0,
  "metadata": {
    "colab": {
      "provenance": []
    },
    "kernelspec": {
      "name": "python3",
      "display_name": "Python 3"
    },
    "language_info": {
      "name": "python"
    },
    "accelerator": "GPU",
    "gpuClass": "standard"
  },
  "cells": [
    {
      "cell_type": "code",
      "source": [],
      "metadata": {
        "id": "nA6YSilsZ9Ut"
      },
      "execution_count": null,
      "outputs": []
    },
    {
      "cell_type": "code",
      "source": [
        "!pip install oidv6"
      ],
      "metadata": {
        "id": "Ue1873g5W9dP"
      },
      "execution_count": null,
      "outputs": []
    },
    {
      "cell_type": "code",
      "source": [
        "!pip install --upgrade oidv6"
      ],
      "metadata": {
        "id": "fxlZp0CmXKMQ"
      },
      "execution_count": null,
      "outputs": []
    },
    {
      "cell_type": "code",
      "source": [
        "from google.colab import drive\n",
        "drive.mount('/content/drive')"
      ],
      "metadata": {
        "colab": {
          "base_uri": "https://localhost:8080/"
        },
        "id": "AOl2DmK_j-7J",
        "outputId": "6b8d5538-7596-409b-e04e-f04e0977823d"
      },
      "execution_count": null,
      "outputs": [
        {
          "output_type": "stream",
          "name": "stdout",
          "text": [
            "Mounted at /content/drive\n"
          ]
        }
      ]
    },
    {
      "cell_type": "code",
      "source": [
        "!oidv6 downloader en --dataset drive/MyDrive/pics --type_data train --classes Banana Pizza Strawberry Pomegranate --limit 344"
      ],
      "metadata": {
        "id": "n4hSThX3SXvC"
      },
      "execution_count": null,
      "outputs": []
    },
    {
      "cell_type": "code",
      "source": [
        "#Downloading file with class names list\n",
        "!wget https://raw.githubusercontent.com/pytorch/hub/master/imagenet_classes.txt"
      ],
      "metadata": {
        "id": "I-CJ76uQdqam"
      },
      "execution_count": null,
      "outputs": []
    },
    {
      "cell_type": "code",
      "source": [
        "image_dir = \"/content/drive/MyDrive/pics/train\"\n",
        "#Defining classes and their thresholds, which will be used for model evaluation\n",
        "number_of_classes = 3\n",
        "classes = [\"banana\", \"pizza\", \"strawberry\"]\n",
        "#other_classes value will be later set on images which do not belong to 3 positive classes\n",
        "other_classes = \"other\"\n",
        "thresholds = [0.6, 0.6, 0.6]\n",
        "\n",
        "#A dictionary is made by finding a corresponding class index by providing the predefined 3 class names\n",
        "#and later adding it with a predefined threshold\n",
        "#In case an image later provided to ImageDataset class doesn't correspond to any of predefined classes,\n",
        "#it gets assigned with 'other'\n",
        "with open('imagenet_classes.txt', 'r') as f:\n",
        "    class_names = [ln.strip() for ln in f]\n",
        "\n",
        "class_mapping = {}\n",
        "for i, class_name in enumerate(class_names):\n",
        "    if class_name.lower() in [c.lower() for c in classes]:\n",
        "        index = [c.lower() for c in classes].index(class_name.lower())\n",
        "        class_mapping[class_name.lower()] = {'index': i, 'threshold': thresholds[index]}\n",
        "class_mapping[other_classes] = {'index': -1, 'threshold': 0.5}\n",
        "\n",
        "print(class_mapping)\n"
      ],
      "metadata": {
        "id": "ZGWFKMs-LgaS",
        "colab": {
          "base_uri": "https://localhost:8080/"
        },
        "outputId": "8e457ec5-e9bf-4367-8a57-abea7247fe11"
      },
      "execution_count": null,
      "outputs": [
        {
          "output_type": "stream",
          "name": "stdout",
          "text": [
            "{'strawberry': {'index': 949, 'threshold': 0.6}, 'banana': {'index': 954, 'threshold': 0.6}, 'pizza': {'index': 963, 'threshold': 0.6}, 'other': {'index': -1, 'threshold': 0.5}}\n"
          ]
        }
      ]
    },
    {
      "cell_type": "code",
      "source": [
        "#@title Dataset\n",
        "import numpy as np\n",
        "import re\n",
        "import glob\n",
        "import torch\n",
        "import torchvision\n",
        "from PIL import Image\n",
        "import PIL\n",
        "from torchvision import transforms\n",
        "import os\n",
        "\n",
        "#Defining transformations which are later going to be applied on images\n",
        "normalize = transforms.Normalize(mean=[0.485, 0.456, 0.406],\n",
        "                                 std=[0.229, 0.224, 0.225])\n",
        "transform = transforms.Compose([\n",
        "            torchvision.transforms.Resize((224,224)),\n",
        "            #torchvision.transforms.ColorJitter(hue=.05, saturation=.05),\n",
        "            torchvision.transforms.RandomHorizontalFlip(),\n",
        "            #torchvision.transforms.RandomRotation(20, resample=PIL.Image.BILINEAR),\n",
        "            transforms.ToTensor(),\n",
        "\n",
        "            transforms.Normalize(mean=[0.485, 0.456, 0.406], std=[0.229, 0.224, 0.225])\n",
        "        ])\n",
        "\n",
        "class ImageDataset(torch.utils.data.Dataset):\n",
        "    def __init__(self, image_dir, transforms=transforms):\n",
        "        self.image_dir = image_dir\n",
        "        self.labels = []\n",
        "        self.class_names = []\n",
        "        self.transforms = transforms\n",
        "        #other_pictures contains name of folder with images which do not belond to positive 3 classes\n",
        "        self.other_pictures = [\"pomegranate\"]\n",
        "\n",
        "        #Retrieving image files and their label paths, folder doesn't necessarily have to contain images of its name\n",
        "        self.class1_files = glob.glob(self.image_dir + \"/{}/*.jpg\".format(classes[0].lower()))\n",
        "        self.class1_label_paths = glob.glob(self.image_dir + \"/{}/labels/*.txt\".format(classes[0].lower()))\n",
        "        self.class2_files = glob.glob(self.image_dir + \"/{}/*.jpg\".format(classes[1].lower()))\n",
        "        self.class2_label_paths = glob.glob(self.image_dir + \"/{}/labels/*.txt\".format(classes[1].lower()))\n",
        "        self.class3_files = glob.glob(self.image_dir + \"/{}/*.jpg\".format(classes[2].lower()))\n",
        "        self.class3_label_paths = glob.glob(self.image_dir + \"/{}/labels/*.txt\".format(classes[2].lower()))\n",
        "        self.other_files = glob.glob(self.image_dir + \"/{}/*.jpg\".format(self.other_pictures[0].lower()))\n",
        "        self.other_label_paths = glob.glob(self.image_dir + \"/{}/labels/*.txt\".format(self.other_pictures[0].lower()))\n",
        "\n",
        "        self.class1 = len(self.class1_files)\n",
        "        #print(self.class1)\n",
        "        self.class2 = len(self.class2_files)\n",
        "        #print(self.class2)\n",
        "        self.class3 = len(self.class3_files)\n",
        "        #print(self.class3)\n",
        "        self.other = len(self.other_files)\n",
        "        #print(self.class3)\n",
        "    \n",
        "        self.files = self.class1_files + self.class2_files + self.class3_files + self.other_files\n",
        "       # print(self.files)\n",
        "        self.label_paths = self.class1_label_paths + self.class2_label_paths + self.class3_label_paths + self.other_label_paths\n",
        "        #print(self.label_paths)\n",
        "\n",
        "        \n",
        "       #Each image has a corresponding label text file, therefore class names are extracted into a list \n",
        "        for label_file in self.label_paths:\n",
        "            #img_name = os.path.splitext(os.path.basename(label_file))[0]\n",
        "            with open(label_file, 'r') as f:\n",
        "              label_parts = f.readline().strip().split(' ')\n",
        "              label_name = label_parts[0]\n",
        "              self.class_names.append(label_name)\n",
        "        #print(self.class_names)\n",
        "\n",
        "        #In order to keep labels as integers(indexes, corresponding in class file), \n",
        "        #class names are mapped to their index values in the dictionary\n",
        "        for label in self.class_names:\n",
        "            label_data = class_mapping.get(label.lower(), class_mapping[other_classes])\n",
        "            self.labels.append(label_data['index'])\n",
        "        #print(self.labels)\n",
        "\n",
        "        #Image and label order is mixed\n",
        "        self.order =  [x for x in np.random.permutation(len(self.labels))]\n",
        "        self.files = [self.files[x] for x in self.order]\n",
        "        self.labels = [self.labels[x] for x in self.order]\n",
        "       #print(self.labels)\n",
        "\n",
        "    def __len__(self):\n",
        "         return (len(self.labels))\n",
        "\n",
        "    def __getitem__(self, index):\n",
        "        files = self.files[index]\n",
        "\n",
        "        img = Image.open(files).convert(\"RGB\")\n",
        "        img = self.transforms(img)\n",
        "\n",
        "        label = self.labels[index]\n",
        "\n",
        "        return img, label\n",
        "      \n",
        "dataset = ImageDataset(image_dir=image_dir, transforms=transform)\n"
      ],
      "metadata": {
        "id": "UZZeq0RZLOkk"
      },
      "execution_count": null,
      "outputs": []
    },
    {
      "cell_type": "code",
      "source": [
        "len(dataset)"
      ],
      "metadata": {
        "colab": {
          "base_uri": "https://localhost:8080/"
        },
        "id": "Zb8asMQ28Egb",
        "outputId": "3264db0f-411e-4f31-95e3-7397d922c1b6"
      },
      "execution_count": null,
      "outputs": [
        {
          "output_type": "execute_result",
          "data": {
            "text/plain": [
              "1227"
            ]
          },
          "metadata": {},
          "execution_count": 7
        }
      ]
    },
    {
      "cell_type": "code",
      "source": [
        "from torchvision import models, transforms"
      ],
      "metadata": {
        "id": "YRbFx8X0-Fts"
      },
      "execution_count": null,
      "outputs": []
    },
    {
      "cell_type": "code",
      "source": [
        "torch.cuda.is_available()"
      ],
      "metadata": {
        "colab": {
          "base_uri": "https://localhost:8080/"
        },
        "id": "F9CQg5RQFWWX",
        "outputId": "3ebdb89b-76dc-48e2-daa1-46aeb24f3277"
      },
      "execution_count": null,
      "outputs": [
        {
          "output_type": "execute_result",
          "data": {
            "text/plain": [
              "True"
            ]
          },
          "metadata": {},
          "execution_count": 9
        }
      ]
    },
    {
      "cell_type": "code",
      "source": [
        "#Loading an image classification model and setting it to evaluation mode\n",
        "model = models.efficientnet_b7(pretrained=True)\n",
        "model.eval()"
      ],
      "metadata": {
        "id": "xDzYidQNFfNl"
      },
      "execution_count": null,
      "outputs": []
    },
    {
      "cell_type": "code",
      "source": [
        "#@title Dataloader\n",
        "batch_size=100\n",
        "dataloader = torch.utils.data.DataLoader(dataset, batch_size=batch_size, shuffle=True)\n",
        "\n",
        "total_images = 0\n",
        "#Keeping track of predicted and ground truth indexes to later calculate statistics\n",
        "predicted_list = []\n",
        "ground_truth_list = []\n",
        "\n",
        "with torch.no_grad():\n",
        "    for inputs, labels in dataloader:\n",
        "        outputs = model(inputs)\n",
        "        #Extracting class index which the model has the highest confidence on\n",
        "        _, predicted = torch.max(outputs, 1)\n",
        "        #Extracting probabilities to later determine whether they meet the threshold\n",
        "        probabilities = torch.softmax(outputs, dim=1)\n",
        "        #print('Probs:', probabilities)\n",
        "\n",
        "        for i in range(len(predicted)):\n",
        "            #Ground truth is extracted from a label and added to the list\n",
        "            ground_truth_index = labels[i].item()\n",
        "            ground_truth_list.append(ground_truth_index)\n",
        "\n",
        "            ground_truth_label = [k for k, v in class_mapping.items() if v['index'] == ground_truth_index][0]\n",
        "            #print('Ground truth:', ground_truth_label)\n",
        "\n",
        "            #Getting the prediction tensor as a number and looking if such class exists in class dictionary\n",
        "            predicted_index = predicted[i].item()\n",
        "            predicted_class_name = [k for k, v in class_mapping.items() if v['index'] == predicted_index]\n",
        "            if len(predicted_class_name) > 0:\n",
        "                predicted_class_name = predicted_class_name[0]\n",
        "                #print(' prediction: ', predicted_class_name)\n",
        "            else: #If class doesn't belong to dictionary, it's classified as 'other'\n",
        "                predicted_class_name = other_classes\n",
        "                #print('prediction: ', predicted_class_name)\n",
        "\n",
        "            #Getting probability of the predicted class\n",
        "            probability = probabilities[i][predicted_index].item()\n",
        "            #print('Prob:', probability)\n",
        "\n",
        "            #Getting a mapping of the predicted class' index+threshold \n",
        "            predicted_class_mapping = class_mapping.get(predicted_class_name.lower(), class_mapping.get('other'))\n",
        "            #print('Predicted class map:', predicted_class_mapping)\n",
        "       \n",
        "            #If prediction was correct, result depends on threshold, otherwise - image is classified as 'other'\n",
        "            if predicted_class_mapping['index'] == ground_truth_index:\n",
        "                if probability >= predicted_class_mapping['threshold']:\n",
        "                    final_class = predicted_class_mapping['index']\n",
        "                else: #Probability isn't high enough - final is 'other'\n",
        "                    final_class = class_mapping[other_classes]['index']\n",
        "            else:\n",
        "                final_class = class_mapping[other_classes]['index']\n",
        "            predicted_list.append(final_class)\n",
        "            final_class_name = [k for k, v in class_mapping.items() if v['index'] == final_class]\n",
        "            #print('Final Predicted class:', final_class_name[0])\n",
        "\n",
        "        total_images += labels.size(0)\n",
        "\n",
        "#print(predicted_list)\n",
        "#print(ground_truth_list)\n",
        "print(total_images)\n"
      ],
      "metadata": {
        "id": "QfeXockXFpA6",
        "colab": {
          "base_uri": "https://localhost:8080/"
        },
        "outputId": "e447777a-8e80-4885-aa72-fdb29cba9f0a"
      },
      "execution_count": null,
      "outputs": [
        {
          "output_type": "stream",
          "name": "stdout",
          "text": [
            "1227\n"
          ]
        }
      ]
    },
    {
      "cell_type": "code",
      "source": [
        "print(len(predicted_list))\n",
        "print(len(ground_truth_list))"
      ],
      "metadata": {
        "colab": {
          "base_uri": "https://localhost:8080/"
        },
        "id": "EUuUx81SCm-E",
        "outputId": "30a496e5-df96-4710-d2b4-26b772099f40"
      },
      "execution_count": null,
      "outputs": [
        {
          "output_type": "stream",
          "name": "stdout",
          "text": [
            "1227\n",
            "1227\n"
          ]
        }
      ]
    },
    {
      "cell_type": "code",
      "source": [
        "#@title Statistics of each class\n",
        "#TP TN FP FN statistics are saved separately for each class\n",
        "tp = {classes[0].lower(): 0, classes[1].lower(): 0, classes[2].lower(): 0, other_classes.lower(): 0}\n",
        "tn = {classes[0].lower(): 0, classes[1].lower(): 0, classes[2].lower(): 0, other_classes.lower(): 0}\n",
        "fp = {classes[0].lower(): 0, classes[1].lower(): 0, classes[2].lower(): 0, other_classes.lower(): 0}\n",
        "fn = {classes[0].lower(): 0, classes[1].lower(): 0, classes[2].lower(): 0, other_classes.lower(): 0}\n",
        "\n",
        "#print(class_mapping.values())\n",
        "index_list = [v['index'] for v in class_mapping.values() if v['index'] != -1]\n",
        "print(index_list)\n",
        "\n",
        "#Going through the predicted and grouth truth list to obtain TP TN FP FN for each class and later calculate metrics\n",
        "for i in range(len(ground_truth_list)):\n",
        "    current_ground_truth = ground_truth_list[i]\n",
        "    current_predicted = predicted_list[i]\n",
        "  \n",
        "    gt_class_name = [k for k, v in class_mapping.items() if v['index'] == current_ground_truth]\n",
        "    gt_class_name = gt_class_name[0]\n",
        "    pr_class_name = [k for k, v in class_mapping.items() if v['index'] == current_predicted]\n",
        "    pr_class_name = pr_class_name[0]\n",
        "\n",
        "   # print(current_ground_truth)\n",
        "   # print(gt_class_name)\n",
        "   # print(current_predicted)\n",
        "   # print(pr_class_name)\n",
        "    \n",
        "    if current_predicted == current_ground_truth and current_predicted != class_mapping[other_classes]['index']:\n",
        "        tp[gt_class_name] += 1\n",
        "        #print('tp')\n",
        "    elif current_predicted == class_mapping[other_classes]['index']:\n",
        "        if current_ground_truth not in index_list:\n",
        "            tn[gt_class_name] += 1\n",
        "            #print('tn')\n",
        "        else:\n",
        "            fn[gt_class_name] += 1\n",
        "            #print('fn') \n",
        "    else:\n",
        "        if current_ground_truth in index_list:\n",
        "            fp[pr_class_name] += 1\n",
        "            #print('fp')\n",
        "    #print('--')\n",
        "print(tp, tn, fp, fn)\n"
      ],
      "metadata": {
        "id": "c0SPEWl61mkb",
        "colab": {
          "base_uri": "https://localhost:8080/"
        },
        "outputId": "af70bdda-8f54-49cc-862f-b7ae5274b9b9"
      },
      "execution_count": null,
      "outputs": [
        {
          "output_type": "stream",
          "name": "stdout",
          "text": [
            "[949, 954, 963]\n",
            "{'banana': 197, 'pizza': 216, 'strawberry': 179, 'other': 0} {'banana': 0, 'pizza': 0, 'strawberry': 0, 'other': 225} {'banana': 0, 'pizza': 0, 'strawberry': 0, 'other': 0} {'banana': 127, 'pizza': 118, 'strawberry': 165, 'other': 0}\n"
          ]
        }
      ]
    },
    {
      "cell_type": "code",
      "source": [
        "#@title Metrics of each class and overall metrics\n",
        "#Calculating metrics for each class separately, excluding 'other' because it can have true negatives only\n",
        "\n",
        "def calculate_metrics(tp, tn, fp, fn):\n",
        "\n",
        "  metrics = {}\n",
        "  metrics['accuracy'] = (tp + tn) / (tp + fp + tn + fn)\n",
        "  metrics['recall'] = tp / (tp + fn)\n",
        "  metrics['precision'] = tp / (tp + fp)\n",
        "  metrics['f1'] = 2 * (metrics['precision'] * metrics['recall']) / (metrics['precision'] + metrics['recall'])\n",
        "\n",
        "  return metrics\n",
        "\n",
        "for i in range(0, number_of_classes):\n",
        "  metrics = calculate_metrics(tp[classes[i].lower()], tn[classes[i].lower()], fp[classes[i].lower()], fn[classes[i].lower()])\n",
        "  print(classes[i].lower(), ': ', metrics)\n",
        "\n",
        "metrics_len = len(tp)\n",
        "\n",
        "#Adding up separate class statistics\n",
        "def add_up_statistics(t_p, t_n, f_p, f_n):\n",
        "\n",
        "  statistics = {'tp': 0, 'tn': 0, 'fp': 0, 'fn': 0}\n",
        "  \n",
        "  #add up tp\n",
        "  for i in range(0, number_of_classes):\n",
        "    statistics['tp'] = statistics['tp'] + t_p[classes[i].lower()]\n",
        "\n",
        "  #tn only in 'other'\n",
        "  statistics['tn'] = t_n[other_classes.lower()]\n",
        "\n",
        "   #add up fp\n",
        "  for i in range(0, number_of_classes):\n",
        "    statistics['fp'] = statistics['fp'] + f_p[classes[i].lower()]\n",
        "\n",
        "   #add up fn\n",
        "  for i in range(0, number_of_classes):\n",
        "    statistics['fn'] = statistics['fn'] + f_n[classes[i].lower()]\n",
        "\n",
        "  return statistics\n",
        "\n",
        "conjoined_statistics = add_up_statistics(tp, tn, fp, fn)\n",
        "print(conjoined_statistics)\n",
        "\n",
        "#Calculating metrics for all classes, including 'other'\n",
        "def calculate_overall_metrics(conjoined_statistics):\n",
        "\n",
        "  tp = conjoined_statistics['tp']\n",
        "  tn = conjoined_statistics['tn']\n",
        "  fp = conjoined_statistics['fp']\n",
        "  fn = conjoined_statistics['fn']\n",
        "\n",
        "  metrics = {}\n",
        "  metrics['accuracy'] = (tp + tn) / (tp + fp + tn + fn)\n",
        "  metrics['recall'] = tp / (tp + fn)\n",
        "  metrics['precision'] = tp / (tp + fp)\n",
        "  metrics['f1'] = 2 * (metrics['precision'] * metrics['recall']) / (metrics['precision'] + metrics['recall'])\n",
        "\n",
        "  return metrics\n",
        "\n",
        "overall_metrics = calculate_overall_metrics(conjoined_statistics)\n",
        "print(overall_metrics)"
      ],
      "metadata": {
        "colab": {
          "base_uri": "https://localhost:8080/"
        },
        "id": "OZGM6Ja5OFTs",
        "outputId": "b5c76b99-ebdb-4824-86fb-faafe4d995cc"
      },
      "execution_count": null,
      "outputs": [
        {
          "output_type": "stream",
          "name": "stdout",
          "text": [
            "banana :  {'accuracy': 0.6080246913580247, 'recall': 0.6080246913580247, 'precision': 1.0, 'f1': 0.7562380038387716}\n",
            "pizza :  {'accuracy': 0.6467065868263473, 'recall': 0.6467065868263473, 'precision': 1.0, 'f1': 0.7854545454545454}\n",
            "strawberry :  {'accuracy': 0.5203488372093024, 'recall': 0.5203488372093024, 'precision': 1.0, 'f1': 0.6845124282982792}\n",
            "{'tp': 592, 'tn': 225, 'fp': 0, 'fn': 410}\n",
            "{'accuracy': 0.6658516707416463, 'recall': 0.590818363273453, 'precision': 1.0, 'f1': 0.7427854454203261}\n"
          ]
        }
      ]
    }
  ]
}